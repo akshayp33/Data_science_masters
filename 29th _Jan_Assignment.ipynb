{
 "cells": [
  {
   "cell_type": "markdown",
   "id": "2191e1da-d47b-4bff-a802-6942fe73b252",
   "metadata": {},
   "source": [
    "Q-1 Who developed Python Programming language?\n",
    "\n",
    "\n",
    "Ans- Python was created by Guido van Rossum, and first released on February 20, 1991"
   ]
  },
  {
   "cell_type": "markdown",
   "id": "84da5dc4-7066-4ca6-9efe-f9c6048f320f",
   "metadata": {},
   "source": [
    "Q-2 which type of programming does python support?\n",
    "\n",
    "\n",
    "Ans- Python is an interpreted programming language, supporting object-oriented, structured, and functional programming.\n"
   ]
  },
  {
   "cell_type": "markdown",
   "id": "cea6ebdc-00d6-4d27-98c0-32e02a064a50",
   "metadata": {},
   "source": [
    "Q-3 What are the benefits of using Python?\n",
    "\n",
    "\n",
    "Ans- Python easy to learn, but also, it’s flexible. Python is used in Many Industries. It has Extensive support libraries.Pythosn is Open source and large active community base langauge. It has application use in Database Access, Software Development, Language Development, Scripting,Data Science and Machine Learning, Finance and trading, Scientific and mathematical computing, Web development,etc."
   ]
  },
  {
   "cell_type": "markdown",
   "id": "da2a8326-6c99-433d-a63b-831ab4aee89d",
   "metadata": {},
   "source": [
    "Q-4 What is the correct extension of the Python file\n",
    "\n",
    "\n",
    "\n",
    "Ans- .py is correct extension of the Python file\n"
   ]
  },
  {
   "cell_type": "markdown",
   "id": "2a95a30f-4cc8-4f02-b4ec-be168721e565",
   "metadata": {},
   "source": [
    "Q-5 Is python code compiled or interpreted?\n",
    "\n",
    "\n",
    "Ans- Python is both compiled as well as an interpreted language, which means when we run a python code, it is first compiled and then interpreted line by line. The compile part gets deleted as soon as the code gets executed in Python."
   ]
  },
  {
   "cell_type": "markdown",
   "id": "456892ca-86c0-436b-85ef-b8901521fda3",
   "metadata": {},
   "source": [
    "Q-7 State a character used to give single-line comments in Python?\n",
    "\n",
    "\n",
    "Ans- Hash character(#) is used to comment the line in the Python program.\n",
    "\n"
   ]
  },
  {
   "cell_type": "markdown",
   "id": "ee33b939-e217-4845-a9fd-11725937dddc",
   "metadata": {},
   "source": [
    "Q-8 Mention functions which can help us to find the version of python that we are currently working on?\n",
    "\n",
    "Ans- The function \"sys. version\" can help us to find the version of python that we are currently working on."
   ]
  },
  {
   "cell_type": "markdown",
   "id": "e89a1389-85c1-4a4d-8e17-532586426bde",
   "metadata": {},
   "source": [
    "Q-9 Python supports the creation of anonymous function, using a construct called _ _ _ _ _ _ _ _ _\n",
    "\n",
    "Ans- Lambda keyword"
   ]
  },
  {
   "cell_type": "markdown",
   "id": "35f7beb3-1544-42af-8488-1f5163770df5",
   "metadata": {},
   "source": [
    "Q-10 What does pip stand for Python?\n",
    "\n",
    "Ans- pip stands for \"preferred installer program\"."
   ]
  },
  {
   "cell_type": "markdown",
   "id": "28642c30-4749-41e0-bf62-d65b873f64ba",
   "metadata": {},
   "source": [
    "Q-11 Mention a few built-in-functions in Python?\n",
    "\n",
    "\n",
    "Ans- print( ) function, type( ) function, input( ) function, max( ) function, len( ) function, etc"
   ]
  },
  {
   "cell_type": "markdown",
   "id": "8dbe1931-f218-49e4-a49a-98f28e35d67e",
   "metadata": {},
   "source": [
    "Q-12 What is the maximum possible length of an identifier in Python?\n",
    "\n",
    "\n",
    "Ans- An identifier can have a maximum length of 79 characters in Python."
   ]
  },
  {
   "cell_type": "markdown",
   "id": "997e8566-71eb-4f99-8e0a-9c30f6a9a6fb",
   "metadata": {},
   "source": [
    "Q-13 What are the benefits of using Python?\n",
    "\n",
    "\n",
    "Ans- Python easy to learn, but also, it’s flexible. Python is used in Many Industries. It has Extensive support libraries.Pythosn is Open source and large active community base langauge. It has application use in Database Access, Software Development, Language Development, Scripting,Data Science and Machine Learning, Finance and trading, Scientific and mathematical computing, Web development,etc."
   ]
  },
  {
   "cell_type": "markdown",
   "id": "6d8f8703-210f-4a69-8b9c-6a48a57a504b",
   "metadata": {},
   "source": [
    "Q-14 How is memory Managed in Python?\n",
    "\n",
    "\n",
    "Ans- Python uses a portion of the memory for internal use and non-object memory. Another part of the memory is used for Python object such as int, dict, list, etc. CPython contains the object allocator that allocates memory within the object area. The object allocator gets a call every time the new object needs space. In Python memory allocation and deallocation method is automatic as the Python developers created a garbage collector for Python so that the user does not have to do manual garbage collection."
   ]
  },
  {
   "cell_type": "markdown",
   "id": "f1757331-08e3-48c3-ac9c-4cba95c657e5",
   "metadata": {},
   "source": [
    "Q-15 How to install python on windows and set path variables?\n",
    "\n",
    "\n",
    "Ans- Steps to install python on Windows Step 1: Download the Python Installer binaries, Step 2: Run the Executable Installer, Step 3: Add Python to environmental variables, Step 4: Verify the Python Installation\n",
    "\n",
    "\n",
    "To set Path Variables Step 1: Right-clicking This PC and going to Properties. Step 2: Clicking on the Advanced system settings in the menu on the left. Step 3: Clicking on the Environment Variables button on the bottom right. Step 4: In the System variables section, selecting the Path variable and clicking on Edit. The next screen will show all the directories that are currently a part of the PATH variable. Step 5: Clicking on New and entering Python’s install directory"
   ]
  },
  {
   "cell_type": "markdown",
   "id": "685b64fa-febb-4034-907c-b01f270d5670",
   "metadata": {},
   "source": [
    "Q-16 Is indentation required in Python?\n",
    "\n",
    "\n",
    "Ans- Indentation is mandatory in python to define the blocks of statements.\n"
   ]
  },
  {
   "cell_type": "code",
   "execution_count": null,
   "id": "e486eeba-b4d2-4f85-a712-dceacf492cf2",
   "metadata": {},
   "outputs": [],
   "source": []
  }
 ],
 "metadata": {
  "kernelspec": {
   "display_name": "Python 3 (ipykernel)",
   "language": "python",
   "name": "python3"
  },
  "language_info": {
   "codemirror_mode": {
    "name": "ipython",
    "version": 3
   },
   "file_extension": ".py",
   "mimetype": "text/x-python",
   "name": "python",
   "nbconvert_exporter": "python",
   "pygments_lexer": "ipython3",
   "version": "3.10.8"
  }
 },
 "nbformat": 4,
 "nbformat_minor": 5
}
