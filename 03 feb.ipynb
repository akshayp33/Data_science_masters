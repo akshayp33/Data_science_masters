{
 "cells": [
  {
   "cell_type": "raw",
   "id": "a2a11d94-bd1b-414c-9a38-b019c376e6a6",
   "metadata": {},
   "source": [
    "Q.1 :- Which keyword is used to create a function? Create a function to return a list of odd numbers in the range of 1 to 25\n",
    "\n",
    "\n",
    "Ans- The def keyword is used to create, (or define) a function."
   ]
  },
  {
   "cell_type": "code",
   "execution_count": 7,
   "id": "7a6974ff-d4d5-4e89-a8fd-53834e554aa8",
   "metadata": {},
   "outputs": [],
   "source": [
    "def odd_numbers(a,b):\n",
    "    return[x for x in range(a,b) if x  %2==1]"
   ]
  },
  {
   "cell_type": "code",
   "execution_count": 9,
   "id": "cc39aafa-1309-4ff1-ae9c-7df6ad59f1c9",
   "metadata": {},
   "outputs": [
    {
     "data": {
      "text/plain": [
       "[1, 3, 5, 7, 9, 11, 13, 15, 17, 19, 21, 23]"
      ]
     },
     "execution_count": 9,
     "metadata": {},
     "output_type": "execute_result"
    }
   ],
   "source": [
    "odd_numbers(1,25)\n"
   ]
  },
  {
   "cell_type": "code",
   "execution_count": null,
   "id": "88368f2e-5e90-47b7-8e0c-6a981643a1dd",
   "metadata": {},
   "outputs": [],
   "source": []
  },
  {
   "cell_type": "code",
   "execution_count": null,
   "id": "45349d85-cd57-44e0-aa19-a365d3688c72",
   "metadata": {},
   "outputs": [],
   "source": []
  },
  {
   "cell_type": "markdown",
   "id": "d5133efa-1d1f-483f-b8c9-87736184f1fd",
   "metadata": {},
   "source": [
    "Q.2 :- Why args and kwargs is used in some function? Create a function each for args and **kwargs to demonstrate their use.\n",
    "\n",
    "\n",
    "Ans- The problem arises when we have a variable number of arguments. We can use args and *kwargs as arguments of a function when you are unsure about the number of arguments to pass in the functions."
   ]
  },
  {
   "cell_type": "code",
   "execution_count": 10,
   "id": "1f571e9a-d93e-4418-afa0-391a93f9dd51",
   "metadata": {},
   "outputs": [],
   "source": [
    "def test(*args):\n",
    "    x=[]\n",
    "    for i in args:\n",
    "        if type(i) == list:\n",
    "            x.append(i)\n",
    "            \n",
    "    return x\n"
   ]
  },
  {
   "cell_type": "code",
   "execution_count": 11,
   "id": "5733d224-6ef1-4a02-b597-632db2d18529",
   "metadata": {},
   "outputs": [
    {
     "data": {
      "text/plain": [
       "[[1, 2, 3, 4, 5], [1, 2.5, 3.5, 4.5]]"
      ]
     },
     "execution_count": 11,
     "metadata": {},
     "output_type": "execute_result"
    }
   ],
   "source": [
    "test(1,2,3,[1,2,3,4,5],[1,2.5,3.5,4.5],\"Akshay\")\n"
   ]
  },
  {
   "cell_type": "code",
   "execution_count": 12,
   "id": "583ca454-0925-48ac-9a5d-2e5b51bca8e4",
   "metadata": {},
   "outputs": [],
   "source": [
    "def test1(**kwargs):\n",
    "    for i in kwargs.keys():\n",
    "        if type(kwargs[i] ) == list :\n",
    "            return i , kwargs[i]\n"
   ]
  },
  {
   "cell_type": "code",
   "execution_count": 13,
   "id": "4036366f-f17d-4e07-90ea-cc061cc72f8a",
   "metadata": {},
   "outputs": [
    {
     "data": {
      "text/plain": [
       "('c', [1, 2, 3, 4])"
      ]
     },
     "execution_count": 13,
     "metadata": {},
     "output_type": "execute_result"
    }
   ],
   "source": [
    "test1(a=34, b = 23, c = [1,2,3,4], d = (\"anil\" , \"Aman\"))"
   ]
  },
  {
   "cell_type": "code",
   "execution_count": null,
   "id": "9f1e35e3-c8a9-4b34-ae1b-31dd4a0bc033",
   "metadata": {},
   "outputs": [],
   "source": []
  },
  {
   "cell_type": "code",
   "execution_count": null,
   "id": "c04ae027-f6cf-40d0-b3f0-3fd1b5bc3f51",
   "metadata": {},
   "outputs": [],
   "source": []
  },
  {
   "cell_type": "markdown",
   "id": "52af78ab-68af-4cd8-8555-9590fac5b46a",
   "metadata": {},
   "source": [
    "Q.3 :- What is an iterator in python? Name the method used to initialise the iterator object and the method used for iteration. Use these methods to print the first five elements of the given list [2, 4, 6, 8, 10, 12, 14, 16, 18, 20]\n",
    "\n",
    "\n",
    "Ans- An iterator is an object that contains a countable number of values. An iterator is an object that can be iterated upon, meaning that you can traverse through all the values.\n",
    "In Python, an iterator is an object which implements the iterator protocol, which consist of the methods iter() and next()."
   ]
  },
  {
   "cell_type": "code",
   "execution_count": 15,
   "id": "10b56a5d-3224-452e-a048-09f4f94b45be",
   "metadata": {},
   "outputs": [],
   "source": [
    "list = [2, 4, 6, 8, 10, 12, 14, 16, 18, 20]\n"
   ]
  },
  {
   "cell_type": "code",
   "execution_count": 19,
   "id": "f2dc5d1f-25b4-499f-987f-e895a4f84c86",
   "metadata": {},
   "outputs": [
    {
     "name": "stdout",
     "output_type": "stream",
     "text": [
      "2\n",
      "4\n",
      "6\n",
      "8\n",
      "10\n"
     ]
    }
   ],
   "source": [
    "list = iter(list)\n",
    "print(next(list))\n",
    "print(next(list))\n",
    "print(next(list))\n",
    "print(next(list))\n",
    "print(next(list))"
   ]
  },
  {
   "cell_type": "code",
   "execution_count": null,
   "id": "fe823842-ee41-4d04-95c6-c0e085c3962c",
   "metadata": {},
   "outputs": [],
   "source": []
  },
  {
   "cell_type": "code",
   "execution_count": null,
   "id": "1776522b-2431-4910-8153-34fd88db7779",
   "metadata": {},
   "outputs": [],
   "source": []
  },
  {
   "cell_type": "markdown",
   "id": "95753043-84f4-43f8-ac4c-9a35aa1c3b74",
   "metadata": {},
   "source": [
    "Q.4 :- What is a generator function in python? Why yield keyword is used? Give an example of a generator function.\n",
    "\n",
    "\n",
    "Ans- Python Generator functions allow you to declare a function that behaves likes an iterator, allowing programmers to make an iterator in a fast, easy, and clean way. yield keyword is used to create a generator function. A type of function that is memory efficient and can be used like an iterator object.\n"
   ]
  },
  {
   "cell_type": "code",
   "execution_count": 20,
   "id": "402f8ef5-f8e5-4381-bfdd-c574e493cda6",
   "metadata": {},
   "outputs": [],
   "source": [
    "def test_fib(n) :\n",
    "    a,b = 0,1\n",
    "    for i in range(n):\n",
    "        yield a \n",
    "        a,b =b , a+b"
   ]
  },
  {
   "cell_type": "code",
   "execution_count": 21,
   "id": "b795f248-4c52-4b39-b5f3-c6e8f8501a51",
   "metadata": {},
   "outputs": [
    {
     "name": "stdout",
     "output_type": "stream",
     "text": [
      "0\n",
      "1\n",
      "1\n",
      "2\n",
      "3\n",
      "5\n",
      "8\n",
      "13\n",
      "21\n",
      "34\n"
     ]
    }
   ],
   "source": [
    "for i in test_fib(10) :\n",
    "    print(i)"
   ]
  },
  {
   "cell_type": "code",
   "execution_count": null,
   "id": "7e4a0962-62cd-40f9-83eb-7037a95d0918",
   "metadata": {},
   "outputs": [],
   "source": []
  },
  {
   "cell_type": "code",
   "execution_count": null,
   "id": "6c8544d0-983d-4bb3-a523-ac0763eeced3",
   "metadata": {},
   "outputs": [],
   "source": []
  },
  {
   "cell_type": "markdown",
   "id": "e2199d06-7fc6-4b42-a894-2766382be84f",
   "metadata": {},
   "source": [
    "Q-5 Create a generator function for prime numbers less than 1000. Use the next() method to print the first 20 prime numbers.\n",
    "\n",
    "Ans -"
   ]
  },
  {
   "cell_type": "code",
   "execution_count": 22,
   "id": "61d782b3-028f-4ee2-9072-7cfbeb33a7ad",
   "metadata": {},
   "outputs": [],
   "source": [
    "def isprime(num) :\n",
    "    for i in range(2,num) :\n",
    "        if num %i == 0:\n",
    "            return False\n",
    "    return True    \n",
    "def prime_generator(n) :\n",
    "    num = 2\n",
    "    while n:\n",
    "        if isprime(num) :\n",
    "            yield num\n",
    "            n -= 1\n",
    "        num += 1\n",
    "    return    \n",
    "    "
   ]
  },
  {
   "cell_type": "code",
   "execution_count": 23,
   "id": "dfd96511-d223-476f-98a2-6926ab6b5525",
   "metadata": {},
   "outputs": [],
   "source": [
    "it = prime_generator(138)\n"
   ]
  },
  {
   "cell_type": "code",
   "execution_count": 24,
   "id": "1539b9d2-5978-4060-a578-2f8b428600d2",
   "metadata": {},
   "outputs": [
    {
     "name": "stdout",
     "output_type": "stream",
     "text": [
      "2 3 5 7 11 13 17 19 23 29 31 37 41 43 47 53 59 61 67 71 73 79 83 89 97 101 103 107 109 113 127 131 137 139 149 151 157 163 167 173 179 181 191 193 197 199 211 223 227 229 233 239 241 251 257 263 269 271 277 281 283 293 307 311 313 317 331 337 347 349 353 359 367 373 379 383 389 397 401 409 419 421 431 433 439 443 449 457 461 463 467 479 487 491 499 503 509 521 523 541 547 557 563 569 571 577 587 593 599 601 607 613 617 619 631 641 643 647 653 659 661 673 677 683 691 701 709 719 727 733 739 743 751 757 761 769 773 787 "
     ]
    }
   ],
   "source": [
    "for e in it:\n",
    "    list = [print(e, end = ' ')]"
   ]
  },
  {
   "cell_type": "code",
   "execution_count": null,
   "id": "9d07f429-01c1-412e-86b6-b1733fb3b8a3",
   "metadata": {},
   "outputs": [],
   "source": []
  }
 ],
 "metadata": {
  "kernelspec": {
   "display_name": "Python 3 (ipykernel)",
   "language": "python",
   "name": "python3"
  },
  "language_info": {
   "codemirror_mode": {
    "name": "ipython",
    "version": 3
   },
   "file_extension": ".py",
   "mimetype": "text/x-python",
   "name": "python",
   "nbconvert_exporter": "python",
   "pygments_lexer": "ipython3",
   "version": "3.10.8"
  }
 },
 "nbformat": 4,
 "nbformat_minor": 5
}
