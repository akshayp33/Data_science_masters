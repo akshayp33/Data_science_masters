{
 "cells": [
  {
   "cell_type": "markdown",
   "id": "9dcdf41c-57d2-403f-9c51-ddddec2a9f58",
   "metadata": {},
   "source": [
    "### Q1. Explain Class and Object with respect to Object-Oriented Programming. Give a suitable example.\n",
    "\n"
   ]
  },
  {
   "cell_type": "markdown",
   "id": "12a5ade2-1afe-4f27-8bad-37dcf34dbb7a",
   "metadata": {},
   "source": [
    "### ans :-\n"
   ]
  },
  {
   "cell_type": "markdown",
   "id": "9943de36-dbf4-4c65-8749-e3fb7de992a8",
   "metadata": {},
   "source": [
    "### A Class is a blueprint or template that defines the properties (variables) and methods (functions) of objects of that class. It acts as a blueprint for creating objects. Classes can inherit from other classes and thus create a hierarchy of classes.\n",
    "\n",
    "### An Object is an instance of a class and has its own state and behavior. An object is created from a class and is said to be an instance of that class. Objects can interact with one another through methods and store data using variables."
   ]
  },
  {
   "cell_type": "code",
   "execution_count": null,
   "id": "455a9a04-377b-4a80-a6bd-a4ed921fadc9",
   "metadata": {},
   "outputs": [],
   "source": []
  },
  {
   "cell_type": "code",
   "execution_count": null,
   "id": "b7c9e1a8-5b43-4166-8b59-6194a1b7125b",
   "metadata": {},
   "outputs": [],
   "source": []
  },
  {
   "cell_type": "markdown",
   "id": "1845e5f8-1c7f-48a3-a4eb-04e97f614b4b",
   "metadata": {},
   "source": [
    "### Q2. Name the four pillars of OOPs.\n",
    "\n",
    "\n",
    "### ans :-\n",
    "\n",
    "\n"
   ]
  },
  {
   "cell_type": "markdown",
   "id": "951b195b-a281-4025-9459-cb0ce2d3f414",
   "metadata": {},
   "source": [
    "Following are the four pillars of the opps\n",
    "\n",
    "1. Abstraction\n",
    "\n",
    "2. Encapsulation\n",
    "\n",
    "3. Inheritance: \n",
    "\n",
    "4. Polymorphism: "
   ]
  },
  {
   "cell_type": "code",
   "execution_count": null,
   "id": "93b3738f-7adb-43e6-b761-50fe16bf7592",
   "metadata": {},
   "outputs": [],
   "source": []
  },
  {
   "cell_type": "code",
   "execution_count": null,
   "id": "2164eaab-44fc-4abe-8bd7-41339b8b8203",
   "metadata": {},
   "outputs": [],
   "source": []
  },
  {
   "cell_type": "markdown",
   "id": "54cc958f-aedb-43f2-bf06-a5be1860a5de",
   "metadata": {},
   "source": [
    "### Q3. Explain why the __init__() function is used. Give a suitable example.\n",
    "\n",
    "### ans :-\n"
   ]
  },
  {
   "cell_type": "markdown",
   "id": "c5cfb598-6540-4118-9b33-e909a205ed63",
   "metadata": {},
   "source": [
    "The __init__() function is used in Python as a constructor for a class. It is a special method that is automatically called when an object is created from a class and it allows the class to initialize its attributes with default or user-defined values.\n",
    "\n",
    "\n",
    "EX:-"
   ]
  },
  {
   "cell_type": "markdown",
   "id": "222b2ac5-d9c9-4620-9b95-490e9f8fe0c8",
   "metadata": {},
   "source": [
    "class order:\n",
    "    def __init__(waiter, tea, coffe, piza):\n",
    "        waiter.tea = tea\n",
    "        waiter.coffe = coffe\n",
    "        waiter.piza = piza\n",
    "        \n",
    "    def order(waiter) :\n",
    "        return waiter.tea,waiter.coffe,waiter.piza\n",
    "\n"
   ]
  },
  {
   "cell_type": "code",
   "execution_count": 7,
   "id": "e5bf9e02-abc0-4259-b70e-b281af84327e",
   "metadata": {},
   "outputs": [],
   "source": [
    "customer = order(10,20,300)"
   ]
  },
  {
   "cell_type": "code",
   "execution_count": 8,
   "id": "70651aa5-4667-4c3b-9457-bb7a4806c936",
   "metadata": {},
   "outputs": [
    {
     "data": {
      "text/plain": [
       "(10, 20, 300)"
      ]
     },
     "execution_count": 8,
     "metadata": {},
     "output_type": "execute_result"
    }
   ],
   "source": [
    "customer.order()\n"
   ]
  },
  {
   "cell_type": "code",
   "execution_count": 5,
   "id": "dbea8085-d30c-4456-9145-e4439c24d896",
   "metadata": {},
   "outputs": [
    {
     "data": {
      "text/plain": [
       "10"
      ]
     },
     "execution_count": 5,
     "metadata": {},
     "output_type": "execute_result"
    }
   ],
   "source": [
    "customer.tea\n"
   ]
  },
  {
   "cell_type": "code",
   "execution_count": 6,
   "id": "9b3d351d-3e7e-4c67-8bee-1ccefc207f92",
   "metadata": {},
   "outputs": [
    {
     "data": {
      "text/plain": [
       "20"
      ]
     },
     "execution_count": 6,
     "metadata": {},
     "output_type": "execute_result"
    }
   ],
   "source": [
    "customer.coffe"
   ]
  },
  {
   "cell_type": "code",
   "execution_count": 9,
   "id": "708e6d6a-4a12-4a26-8004-326ce158ca78",
   "metadata": {},
   "outputs": [
    {
     "data": {
      "text/plain": [
       "300"
      ]
     },
     "execution_count": 9,
     "metadata": {},
     "output_type": "execute_result"
    }
   ],
   "source": [
    "customer.piza"
   ]
  },
  {
   "cell_type": "code",
   "execution_count": null,
   "id": "7bb37f77-4479-4b56-b6b2-d38e874ecdf8",
   "metadata": {},
   "outputs": [],
   "source": []
  },
  {
   "cell_type": "code",
   "execution_count": null,
   "id": "54aceefc-57f5-4860-abb8-766e53dc2b72",
   "metadata": {},
   "outputs": [],
   "source": []
  },
  {
   "cell_type": "markdown",
   "id": "ecac9651-e113-4c66-b666-667b7762b065",
   "metadata": {},
   "source": [
    "### Q4. Why self is used in OOPs?\n",
    "\n",
    "Ans :-"
   ]
  },
  {
   "cell_type": "markdown",
   "id": "b8ea593d-988b-4ca4-a3b7-2a7422dd237f",
   "metadata": {},
   "source": [
    "The 'self' parameter is used to access the instance's attributes and methods, and to allow these attributes and methods to be called by the instance. This is necessary because each instance of a class has its own set of attributes and methods, and the self keyword allows the code within a method to reference the attributes and methods of the specific instance on which the method is being called."
   ]
  },
  {
   "cell_type": "code",
   "execution_count": null,
   "id": "568a9e6f-0fae-4a59-ab13-c68a079d0892",
   "metadata": {},
   "outputs": [],
   "source": []
  },
  {
   "cell_type": "code",
   "execution_count": null,
   "id": "0794b845-8393-41a9-9e74-25963ada0e92",
   "metadata": {},
   "outputs": [],
   "source": []
  },
  {
   "cell_type": "markdown",
   "id": "7d1e32b3-51d9-4fd8-ba55-30cac783ad4f",
   "metadata": {},
   "source": [
    "### Q5. What is inheritance? Give an example for each type of inheritance.\n",
    "\n",
    "Ans :-"
   ]
  },
  {
   "cell_type": "markdown",
   "id": "65cd028d-5535-46e3-b3f8-81ba7a59ebf2",
   "metadata": {},
   "source": [
    "Inheritance is a mechanism in Object-Oriented Programming (OOP) that allows objects of one class to inherit properties and behaviors from objects of another class. It provides a way to create a new class that is a modified version of an existing class, without having to rewrite all of the code in the new class.\n",
    "\n"
   ]
  },
  {
   "cell_type": "code",
   "execution_count": 7,
   "id": "04c6731e-c5ef-4a96-8b0e-41c7560d4164",
   "metadata": {},
   "outputs": [],
   "source": [
    "class Person:\n",
    "    def __init__(self, fname, lname):\n",
    "        self.firstname = fname\n",
    "        self.lastname = lname\n",
    "\n",
    "    def printname(self):\n",
    "        print(self.firstname, self.lastname)"
   ]
  },
  {
   "cell_type": "code",
   "execution_count": 10,
   "id": "1fb44fc7-0946-472b-a3d6-529677bdebd0",
   "metadata": {},
   "outputs": [],
   "source": [
    "a = Person(\"akki\",\"pathak\")"
   ]
  },
  {
   "cell_type": "code",
   "execution_count": 12,
   "id": "d3e9b98d-4365-4b54-935c-67faac1edec1",
   "metadata": {},
   "outputs": [
    {
     "name": "stdout",
     "output_type": "stream",
     "text": [
      "akki pathak\n"
     ]
    }
   ],
   "source": [
    "a.printname()"
   ]
  },
  {
   "cell_type": "code",
   "execution_count": null,
   "id": "2d563655-d14c-4b05-882d-1e64c68b098a",
   "metadata": {},
   "outputs": [],
   "source": []
  }
 ],
 "metadata": {
  "kernelspec": {
   "display_name": "Python 3 (ipykernel)",
   "language": "python",
   "name": "python3"
  },
  "language_info": {
   "codemirror_mode": {
    "name": "ipython",
    "version": 3
   },
   "file_extension": ".py",
   "mimetype": "text/x-python",
   "name": "python",
   "nbconvert_exporter": "python",
   "pygments_lexer": "ipython3",
   "version": "3.10.8"
  }
 },
 "nbformat": 4,
 "nbformat_minor": 5
}
