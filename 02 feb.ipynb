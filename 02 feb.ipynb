{
 "cells": [
  {
   "cell_type": "markdown",
   "id": "b33a8ab9-6d9c-429c-abfd-8273233cd5a4",
   "metadata": {},
   "source": [
    "Q.1\n",
    "For loop\n",
    "\n",
    "for loop is basically used for a specified range.For loop is used for traversing a list,string\n",
    "infinite loop is not possible in for loop. For loop's value are fixed at time of initialization(no of iterations is fixed(static))\n",
    "\n",
    "\n",
    "While Loop\n",
    "\n",
    "While loop's advantage is it can create infinite loops.while loop can help variable to jump from a certain value to different value at runtime.(no of iterations can be changed until the condition becomes false)"
   ]
  },
  {
   "cell_type": "markdown",
   "id": "4bb604c6-e7a5-48e2-8340-6f1bedcb0db5",
   "metadata": {},
   "source": [
    "EXAMPLE :-"
   ]
  },
  {
   "cell_type": "code",
   "execution_count": 2,
   "id": "9e08fa89-bb3f-4a1f-a981-1838083d2d8d",
   "metadata": {},
   "outputs": [
    {
     "name": "stdout",
     "output_type": "stream",
     "text": [
      "9\n",
      "9\n",
      "9\n",
      "9\n",
      "9\n"
     ]
    }
   ],
   "source": [
    "#for loop\n",
    "for a in range(0,5):\n",
    "    a=9\n",
    "    print(a)"
   ]
  },
  {
   "cell_type": "code",
   "execution_count": 2,
   "id": "0fac864e-d2c4-4731-8f8c-ed008c356f5b",
   "metadata": {},
   "outputs": [
    {
     "name": "stdout",
     "output_type": "stream",
     "text": [
      "0\n"
     ]
    }
   ],
   "source": [
    "#for while loop\n",
    "l=0\n",
    "while l<7:\n",
    "    print(l)\n",
    "    l=7\n"
   ]
  },
  {
   "cell_type": "code",
   "execution_count": null,
   "id": "fcc3ff0b-fe75-49f1-9536-2f5e7e9951d7",
   "metadata": {},
   "outputs": [],
   "source": []
  },
  {
   "cell_type": "code",
   "execution_count": null,
   "id": "9808554c-3f29-4b9e-90af-9193d473f2d9",
   "metadata": {},
   "outputs": [],
   "source": []
  },
  {
   "cell_type": "code",
   "execution_count": null,
   "id": "d4d71b9a-3388-4d23-9639-049cc709b628",
   "metadata": {},
   "outputs": [],
   "source": []
  },
  {
   "cell_type": "markdown",
   "id": "0027b614-f6e2-422a-b1ee-991b5a2a9df1",
   "metadata": {},
   "source": [
    "Q.2 :- #Write a python program to print the sum and product of the first 10 natural numbers using for\n",
    "and while loop."
   ]
  },
  {
   "cell_type": "code",
   "execution_count": 6,
   "id": "60f02051-bf2f-41f0-927a-7454781510d4",
   "metadata": {},
   "outputs": [
    {
     "name": "stdout",
     "output_type": "stream",
     "text": [
      "Sum using for loop =  45\n",
      "Sum using while loop =  55\n"
     ]
    }
   ],
   "source": [
    "result = 0\n",
    "for a in range(1,10):\n",
    "    result+=a\n",
    "print('Sum using for loop = ',result)\n",
    "\n",
    "b = 0\n",
    "start = 1\n",
    "while start<=10:\n",
    "    b += start\n",
    "    start += 1\n",
    "print('Sum using while loop = ',b)"
   ]
  },
  {
   "cell_type": "code",
   "execution_count": null,
   "id": "59be00d8-d514-40d4-ba6f-1fbb92f1537a",
   "metadata": {},
   "outputs": [],
   "source": []
  },
  {
   "cell_type": "code",
   "execution_count": null,
   "id": "8f62985f-135e-42a1-9e93-10cfe288c8bd",
   "metadata": {},
   "outputs": [],
   "source": []
  },
  {
   "cell_type": "markdown",
   "id": "239ec61b-9235-4406-82bf-00b3fe9ef376",
   "metadata": {},
   "source": [
    "Q.3 :-\n",
    "Create a python program to compute the electricity bill for a household.\n",
    "The per-unit charges in rupees are as follows: For the first 100 units, the user will be charged Rs. 4.5 per\n",
    "unit, for the next 100 units, the user will be charged Rs. 6 per unit, and for the next 100 units, the user will\n",
    "be charged Rs. 10 per unit, After 300 units and above the user will be charged Rs. 20 per unit."
   ]
  },
  {
   "cell_type": "code",
   "execution_count": 8,
   "id": "47503f78-0d1a-447d-b039-672edebd78ff",
   "metadata": {},
   "outputs": [
    {
     "name": "stdin",
     "output_type": "stream",
     "text": [
      "No of units =  111\n"
     ]
    },
    {
     "name": "stdout",
     "output_type": "stream",
     "text": [
      "Bill =  516.0\n"
     ]
    }
   ],
   "source": [
    "unit = int(input('No of units = '))\n",
    "price = 0 \n",
    "if unit<=100:\n",
    "    price = (4.5 * unit)\n",
    "elif unit>100 and unit<=200:\n",
    "    price = 4.5 * 100 + 6 * (unit-100)\n",
    "elif unit > 200 and unit <= 300:\n",
    "    price = 4.5 * 100 + 6 * 100 + 10 * (unit - 200)\n",
    "else:\n",
    "    price = 4.5 * 100 + 6 * 100 + 10 * 100 + 20 * (unit-300)\n",
    "\n",
    "print('Bill = ',price)\n"
   ]
  },
  {
   "cell_type": "code",
   "execution_count": null,
   "id": "8939749a-4dca-4369-906e-de92c83e75dc",
   "metadata": {},
   "outputs": [],
   "source": []
  },
  {
   "cell_type": "code",
   "execution_count": null,
   "id": "28bbbc9f-ea07-405c-b93d-55b60b43388d",
   "metadata": {},
   "outputs": [],
   "source": []
  },
  {
   "cell_type": "markdown",
   "id": "8206eb8a-fcc7-443a-9750-b54e3d96e7de",
   "metadata": {},
   "source": [
    "Q4.:- Create a list of numbers from 1 to 100. Use for loop and while loop to calculate the cube of each\n",
    "number and if the cube of that number is divisible by 4 or 5 then append that number in a list and print\n",
    "that list.\n"
   ]
  },
  {
   "cell_type": "code",
   "execution_count": 9,
   "id": "81692515-7245-4121-b3f2-a78fb9324277",
   "metadata": {},
   "outputs": [
    {
     "name": "stdout",
     "output_type": "stream",
     "text": [
      "[2, 4, 5, 6, 8, 10, 12, 14, 15, 16, 18, 20, 22, 24, 25, 26, 28, 30, 32, 34, 35, 36, 38, 40, 42, 44, 45, 46, 48, 50, 52, 54, 55, 56, 58, 60, 62, 64, 65, 66, 68, 70, 72, 74, 75, 76, 78, 80, 82, 84, 85, 86, 88, 90, 92, 94, 95, 96, 98, 100]\n"
     ]
    }
   ],
   "source": [
    "result = []\n",
    "l = list(range(1,101))\n",
    "for x in l:\n",
    "    cube = x**3\n",
    "    if cube%4 == 0 or cube%5 == 0:\n",
    "        result.append(x)\n",
    "print(result)"
   ]
  },
  {
   "cell_type": "code",
   "execution_count": null,
   "id": "89b2b99b-5f67-4724-9cef-a934955fde0f",
   "metadata": {},
   "outputs": [],
   "source": []
  },
  {
   "cell_type": "code",
   "execution_count": null,
   "id": "e402d4be-6b24-4d20-8966-4626b9d9c49a",
   "metadata": {},
   "outputs": [],
   "source": []
  },
  {
   "cell_type": "markdown",
   "id": "92ae6c68-544d-4d54-a29a-af9f50d27a6a",
   "metadata": {},
   "source": [
    "Q5.:-\n",
    "Write a program to filter count vowels in the below-given string.\n",
    "string = \"I want to become a data scientist\""
   ]
  },
  {
   "cell_type": "code",
   "execution_count": null,
   "id": "e837e8f2-e410-406c-b519-2a8fb19a9ddf",
   "metadata": {},
   "outputs": [],
   "source": [
    "s = \"I want to become a data scientist\"\n",
    "count_vowels = 0\n",
    "for x in string :\n",
    "    if x.lower() in ['a','e','i','o','u']:\n",
    "        count_vowels += 1\n",
    "        \n",
    "print('No of vowels = ',count_vowels) "
   ]
  }
 ],
 "metadata": {
  "kernelspec": {
   "display_name": "Python 3 (ipykernel)",
   "language": "python",
   "name": "python3"
  },
  "language_info": {
   "codemirror_mode": {
    "name": "ipython",
    "version": 3
   },
   "file_extension": ".py",
   "mimetype": "text/x-python",
   "name": "python",
   "nbconvert_exporter": "python",
   "pygments_lexer": "ipython3",
   "version": "3.10.8"
  }
 },
 "nbformat": 4,
 "nbformat_minor": 5
}
