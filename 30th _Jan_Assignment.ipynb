{
 "cells": [
  {
   "cell_type": "code",
   "execution_count": 3,
   "id": "30ca3295-d1d2-4973-b713-823ef882a0ec",
   "metadata": {},
   "outputs": [
    {
     "name": "stdin",
     "output_type": "stream",
     "text": [
      "Enter your Percentage =  85\n"
     ]
    },
    {
     "name": "stdout",
     "output_type": "stream",
     "text": [
      "B\n"
     ]
    }
   ],
   "source": [
    "# Question 1\n",
    "Percentage = float(input('Enter your Percentage = '))\n",
    "if Percentage>90:\n",
    "    print('A')\n",
    "elif Percentage>80 and Percentage<=90:\n",
    "    print('B')\n",
    "elif Percentage>=60 and Percentage<=80:\n",
    "    print('C')\n",
    "else:\n",
    "    print('D')"
   ]
  },
  {
   "cell_type": "code",
   "execution_count": 4,
   "id": "222e93cd-3ec2-45f1-bf63-5b737c3a0776",
   "metadata": {},
   "outputs": [
    {
     "name": "stdin",
     "output_type": "stream",
     "text": [
      "Price =  24000\n"
     ]
    },
    {
     "name": "stdout",
     "output_type": "stream",
     "text": [
      "Tax Price =  1200.0\n"
     ]
    }
   ],
   "source": [
    "# Question 2\n",
    "Price = int(input('Price = '))\n",
    "Tax = None\n",
    "if Price<=50000:\n",
    "    Tax= Price*0.05\n",
    "elif Price>50000 and Price<=100000:\n",
    "    Tax = Price*0.10\n",
    "else:\n",
    "    Tax = Price*0.15\n",
    "print('Tax Price = ',Tax)"
   ]
  },
  {
   "cell_type": "code",
   "execution_count": 5,
   "id": "484693a1-7d57-4c42-a5e3-03d19aa812a8",
   "metadata": {},
   "outputs": [
    {
     "name": "stdin",
     "output_type": "stream",
     "text": [
      "Enter the city name =  Delhi\n"
     ]
    },
    {
     "name": "stdout",
     "output_type": "stream",
     "text": [
      "Red Fort\n"
     ]
    }
   ],
   "source": [
    "# question 3\n",
    "City = input('Enter the city name = ').capitalize()\n",
    "if City == 'Delhi':\n",
    "    print('Red Fort')\n",
    "elif City == 'Agra':\n",
    "    print('Taj Mahal')\n",
    "elif City == 'Jaipur':\n",
    "    print('Jal Mahal')\n",
    "else:\n",
    "    pass"
   ]
  },
  {
   "cell_type": "code",
   "execution_count": 7,
   "id": "a364bee9-352b-41d8-b259-a765ba7e4cf8",
   "metadata": {},
   "outputs": [
    {
     "name": "stdin",
     "output_type": "stream",
     "text": [
      "enter a number =  22\n"
     ]
    },
    {
     "name": "stdout",
     "output_type": "stream",
     "text": [
      "No of times =  1\n"
     ]
    }
   ],
   "source": [
    "# Question 4\n",
    "num = int(input('enter a number = '))\n",
    "ctr=0\n",
    "while num>10:\n",
    "    num = num/3;\n",
    "    ctr+=1\n",
    "print('No of times = ',ctr)\n"
   ]
  },
  {
   "cell_type": "markdown",
   "id": "6ca7fccb-99e8-4bf9-8724-e315006d8c27",
   "metadata": {},
   "source": [
    "Question 5\n",
    "\n",
    "while loop is basically used for creating infinite loops. for loop has restrictions for infinite loop. that's why while loop is used.\n",
    "\n",
    "while True: print('pwskills')\n",
    "\n",
    "This above example leads to an infinite loop."
   ]
  },
  {
   "cell_type": "code",
   "execution_count": 8,
   "id": "edee7787-1bc1-498e-9ac9-519a9b072fca",
   "metadata": {},
   "outputs": [
    {
     "name": "stdout",
     "output_type": "stream",
     "text": [
      "\n",
      "1st\n",
      "\n",
      "     * \n",
      "    * * \n",
      "   * * * \n",
      "  * * * * \n",
      " * * * * * \n",
      "2nd\n",
      "\n",
      "* \n",
      "* * \n",
      "* * * \n",
      "* * * * \n",
      "* * * * * \n",
      "\n",
      "3rd\n",
      "\n",
      "* * * * * * \n",
      "* * * * * \n",
      "* * * * \n",
      "* * * \n",
      "* * \n"
     ]
    }
   ],
   "source": [
    "# Question 6\n",
    "n=5\n",
    "\n",
    "print('\\n1st\\n')\n",
    "i=0\n",
    "while i<n:\n",
    "    sp=n-1\n",
    "    while sp>=i:\n",
    "        print(end=' ')\n",
    "        sp-=1\n",
    "    j=0\n",
    "    while j<=i:\n",
    "        print('*',end=' ')\n",
    "        j+=1\n",
    "    i+=1\n",
    "    print()\n",
    "\n",
    "print('2nd\\n')\n",
    "i=0\n",
    "while i<n:\n",
    "    j=0\n",
    "    while j<=i:\n",
    "        print('*',end=' ')\n",
    "        j+=1\n",
    "    i+=1\n",
    "    print()\n",
    "    \n",
    "\n",
    "print('\\n3rd\\n')\n",
    "i=0\n",
    "while i<n:\n",
    "    j=n\n",
    "    while j>=i:\n",
    "        print('*',end=' ')\n",
    "        j-=1\n",
    "    i+=1\n",
    "    print()"
   ]
  },
  {
   "cell_type": "code",
   "execution_count": 9,
   "id": "280d6976-70df-4665-a6ad-47a0d3a8d60f",
   "metadata": {},
   "outputs": [
    {
     "name": "stdout",
     "output_type": "stream",
     "text": [
      "10\n",
      "9\n",
      "8\n",
      "7\n",
      "6\n",
      "5\n",
      "4\n",
      "3\n",
      "2\n",
      "1\n"
     ]
    }
   ],
   "source": [
    "# Question 7\n",
    "num=10\n",
    "while num>0:\n",
    "    print(num)\n",
    "    num-=1\n"
   ]
  },
  {
   "cell_type": "code",
   "execution_count": null,
   "id": "15eccc05-29f2-4115-a6ca-463a70f52604",
   "metadata": {},
   "outputs": [],
   "source": []
  }
 ],
 "metadata": {
  "kernelspec": {
   "display_name": "Python 3 (ipykernel)",
   "language": "python",
   "name": "python3"
  },
  "language_info": {
   "codemirror_mode": {
    "name": "ipython",
    "version": 3
   },
   "file_extension": ".py",
   "mimetype": "text/x-python",
   "name": "python",
   "nbconvert_exporter": "python",
   "pygments_lexer": "ipython3",
   "version": "3.10.8"
  }
 },
 "nbformat": 4,
 "nbformat_minor": 5
}
