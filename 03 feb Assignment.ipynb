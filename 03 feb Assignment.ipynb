{
 "cells": [
  {
   "cell_type": "markdown",
   "id": "d582cfde-f807-4b69-8710-91d869903e79",
   "metadata": {},
   "source": [
    "Q.1 :- Which keyword is used to create a function? Create a function to return a list of odd numbers in the range of 1 to 25\n",
    "\n",
    "\n",
    "Ans- The def keyword is used to create, (or define) a function."
   ]
  },
  {
   "cell_type": "code",
   "execution_count": 1,
   "id": "4496dfb2-e319-451f-af33-5b0094a324a8",
   "metadata": {},
   "outputs": [],
   "source": [
    "def odd_numbers(a,b):\n",
    "    return[x for x in range(a,b) if x  %2==1]"
   ]
  },
  {
   "cell_type": "code",
   "execution_count": 3,
   "id": "7c84a9d2-0b18-464a-87ab-485d2f12e455",
   "metadata": {},
   "outputs": [
    {
     "data": {
      "text/plain": [
       "[1, 3, 5, 7, 9, 11, 13, 15, 17, 19, 21, 23]"
      ]
     },
     "execution_count": 3,
     "metadata": {},
     "output_type": "execute_result"
    }
   ],
   "source": [
    "odd_numbers(1,25)"
   ]
  },
  {
   "cell_type": "code",
   "execution_count": null,
   "id": "9178413d-a5a6-4ee1-b1b2-87b603987792",
   "metadata": {},
   "outputs": [],
   "source": []
  },
  {
   "cell_type": "code",
   "execution_count": null,
   "id": "1761dbdb-611b-49fc-87be-7fc4a96f1354",
   "metadata": {},
   "outputs": [],
   "source": []
  },
  {
   "cell_type": "markdown",
   "id": "d4177ae1-f8d2-4435-8be8-eade61bc4c5d",
   "metadata": {},
   "source": [
    "Q.2 :- Why args and kwargs is used in some function? Create a function each for args and **kwargs to demonstrate their use.\n",
    "\n",
    "\n",
    "Ans- The problem arises when we have a variable number of arguments. We can use args and *kwargs as arguments of a function when you are unsure about the number of arguments to pass in the functions."
   ]
  },
  {
   "cell_type": "code",
   "execution_count": 4,
   "id": "b1858696-9a35-4a6a-b12d-4924c03cb02c",
   "metadata": {},
   "outputs": [],
   "source": [
    "def test(*args):\n",
    "    x=[]\n",
    "    for i in args:\n",
    "        if type(i) == list:\n",
    "            x.append(i)\n",
    "            \n",
    "    return x\n"
   ]
  },
  {
   "cell_type": "code",
   "execution_count": 5,
   "id": "885fdb53-c527-48b3-9b72-e5be3d9663fa",
   "metadata": {},
   "outputs": [
    {
     "data": {
      "text/plain": [
       "[[1, 2, 3, 4, 5], [1, 2.5, 3.5, 4.5]]"
      ]
     },
     "execution_count": 5,
     "metadata": {},
     "output_type": "execute_result"
    }
   ],
   "source": [
    "test(1,2,3,[1,2,3,4,5],[1,2.5,3.5,4.5],\"Akshay\")\n"
   ]
  },
  {
   "cell_type": "code",
   "execution_count": 6,
   "id": "e1d76c1e-7f29-4e77-858f-9b2d2a04f426",
   "metadata": {},
   "outputs": [],
   "source": [
    "def test1(**kwargs):\n",
    "    for i in kwargs.keys():\n",
    "        if type(kwargs[i] ) == list :\n",
    "            return i , kwargs[i]\n"
   ]
  },
  {
   "cell_type": "code",
   "execution_count": 7,
   "id": "07a6dbb9-394f-4308-9035-600b1fa7a765",
   "metadata": {},
   "outputs": [
    {
     "data": {
      "text/plain": [
       "('c', [1, 2, 3, 4])"
      ]
     },
     "execution_count": 7,
     "metadata": {},
     "output_type": "execute_result"
    }
   ],
   "source": [
    "test1(a=34, b = 23, c = [1,2,3,4], d = (\"anil\" , \"Aman\"))"
   ]
  },
  {
   "cell_type": "code",
   "execution_count": null,
   "id": "0c68d3d6-d110-4138-b088-55cf6e52f110",
   "metadata": {},
   "outputs": [],
   "source": []
  },
  {
   "cell_type": "code",
   "execution_count": null,
   "id": "337e9b99-585f-4108-8d14-ada0ac5cc071",
   "metadata": {},
   "outputs": [],
   "source": []
  },
  {
   "cell_type": "markdown",
   "id": "746b0438-bb10-4101-82a7-a51a9cbd276d",
   "metadata": {},
   "source": [
    "Q.3 :- What is an iterator in python? Name the method used to initialise the iterator object and the method used for iteration. Use these methods to print the first five elements of the given list [2, 4, 6, 8, 10, 12, 14, 16, 18, 20]\n",
    "\n",
    "\n",
    "Ans- An iterator is an object that contains a countable number of values. An iterator is an object that can be iterated upon, meaning that you can traverse through all the values.\n",
    "In Python, an iterator is an object which implements the iterator protocol, which consist of the methods iter() and next()."
   ]
  },
  {
   "cell_type": "code",
   "execution_count": 8,
   "id": "b881d443-4541-49fb-8f0e-c152948ab14d",
   "metadata": {},
   "outputs": [],
   "source": [
    "list = [2, 4, 6, 8, 10, 12, 14, 16, 18, 20]\n"
   ]
  },
  {
   "cell_type": "code",
   "execution_count": 9,
   "id": "cb265c05-e020-4645-bd89-5989bdd0280e",
   "metadata": {},
   "outputs": [
    {
     "name": "stdout",
     "output_type": "stream",
     "text": [
      "2\n",
      "4\n",
      "6\n",
      "8\n",
      "10\n"
     ]
    }
   ],
   "source": [
    "list = iter(list)\n",
    "print(next(list))\n",
    "print(next(list))\n",
    "print(next(list))\n",
    "print(next(list))\n",
    "print(next(list))"
   ]
  },
  {
   "cell_type": "code",
   "execution_count": null,
   "id": "75c4bd22-de18-4336-a074-289ddc73748e",
   "metadata": {},
   "outputs": [],
   "source": []
  },
  {
   "cell_type": "code",
   "execution_count": null,
   "id": "43d911c4-8830-4db1-83f8-674d53a73521",
   "metadata": {},
   "outputs": [],
   "source": []
  },
  {
   "cell_type": "markdown",
   "id": "c7f439df-1cda-45b8-96fe-79fa0f50c33c",
   "metadata": {},
   "source": [
    "Q.4 :- What is a generator function in python? Why yield keyword is used? Give an example of a generator function.\n",
    "\n",
    "\n",
    "Ans- Python Generator functions allow you to declare a function that behaves likes an iterator, allowing programmers to make an iterator in a fast, easy, and clean way. yield keyword is used to create a generator function. A type of function that is memory efficient and can be used like an iterator object.\n"
   ]
  },
  {
   "cell_type": "code",
   "execution_count": 10,
   "id": "70127fcc-2ea9-459c-a8d7-e57f233c3fb0",
   "metadata": {},
   "outputs": [],
   "source": [
    "def test_fib(n) :\n",
    "    a,b = 0,1\n",
    "    for i in range(n):\n",
    "        yield a \n",
    "        a,b =b , a+b"
   ]
  },
  {
   "cell_type": "code",
   "execution_count": 11,
   "id": "f5e79f10-e1be-4610-a182-12019d5587c5",
   "metadata": {},
   "outputs": [
    {
     "name": "stdout",
     "output_type": "stream",
     "text": [
      "0\n",
      "1\n",
      "1\n",
      "2\n",
      "3\n",
      "5\n",
      "8\n",
      "13\n",
      "21\n",
      "34\n"
     ]
    }
   ],
   "source": [
    "for i in test_fib(10) :\n",
    "    print(i)"
   ]
  },
  {
   "cell_type": "code",
   "execution_count": null,
   "id": "e311b176-2402-45a0-a2c3-3ab8690046c3",
   "metadata": {},
   "outputs": [],
   "source": []
  },
  {
   "cell_type": "code",
   "execution_count": null,
   "id": "643fb8bf-2672-4689-9179-e7ea61195ed4",
   "metadata": {},
   "outputs": [],
   "source": []
  },
  {
   "cell_type": "markdown",
   "id": "821161dc-4cd5-43ef-8ae4-fae282bdab1b",
   "metadata": {},
   "source": [
    "Q-5 Create a generator function for prime numbers less than 1000. Use the next() method to print the first 20 prime numbers.\n",
    "\n"
   ]
  },
  {
   "cell_type": "markdown",
   "id": "e8e109f1-92a1-4396-87fb-25cb82cac005",
   "metadata": {},
   "source": [
    "Ans -"
   ]
  },
  {
   "cell_type": "code",
   "execution_count": 13,
   "id": "96646e98-cd3d-47d3-b467-047d524ce6d7",
   "metadata": {},
   "outputs": [],
   "source": [
    "def isprime(num) :\n",
    "    for i in range(2,num) :\n",
    "        if num %i == 0:\n",
    "            return False\n",
    "    return True    \n",
    "def prime_generator(n) :\n",
    "    num = 2\n",
    "    while n:\n",
    "        if isprime(num) :\n",
    "            yield num\n",
    "            n -= 1\n",
    "        num += 1\n",
    "    return    \n",
    "    "
   ]
  },
  {
   "cell_type": "code",
   "execution_count": 14,
   "id": "f91fb73c-86fe-4765-832b-ddfe217e212a",
   "metadata": {},
   "outputs": [],
   "source": [
    "it = prime_generator(138)\n"
   ]
  },
  {
   "cell_type": "code",
   "execution_count": 15,
   "id": "874cb330-72d4-47ee-84bd-28fbcf8d860b",
   "metadata": {},
   "outputs": [
    {
     "name": "stdout",
     "output_type": "stream",
     "text": [
      "2 3 5 7 11 13 17 19 23 29 31 37 41 43 47 53 59 61 67 71 73 79 83 89 97 101 103 107 109 113 127 131 137 139 149 151 157 163 167 173 179 181 191 193 197 199 211 223 227 229 233 239 241 251 257 263 269 271 277 281 283 293 307 311 313 317 331 337 347 349 353 359 367 373 379 383 389 397 401 409 419 421 431 433 439 443 449 457 461 463 467 479 487 491 499 503 509 521 523 541 547 557 563 569 571 577 587 593 599 601 607 613 617 619 631 641 643 647 653 659 661 673 677 683 691 701 709 719 727 733 739 743 751 757 761 769 773 787 "
     ]
    }
   ],
   "source": [
    "for e in it:\n",
    "    list = [print(e, end = ' ')]"
   ]
  },
  {
   "cell_type": "markdown",
   "id": "ac6cb7dd-598e-4d42-abe8-4957e75e18b1",
   "metadata": {},
   "source": [
    "Q6. Write a python program to print the first 10 Fibonacci numbers using a while loop.\n"
   ]
  },
  {
   "cell_type": "markdown",
   "id": "45a9e0ea-2694-449f-bdbf-728a877c29c4",
   "metadata": {},
   "source": [
    "Ans :-"
   ]
  },
  {
   "cell_type": "code",
   "execution_count": 3,
   "id": "f5f425dc-5f0f-4d99-8451-7fcea6e652c9",
   "metadata": {},
   "outputs": [
    {
     "name": "stdin",
     "output_type": "stream",
     "text": [
      "enter the number of element of user 10\n"
     ]
    },
    {
     "name": "stdout",
     "output_type": "stream",
     "text": [
      "0\n",
      "1\n",
      "1\n",
      "2\n",
      "3\n",
      "5\n",
      "8\n",
      "13\n",
      "21\n",
      "34\n"
     ]
    }
   ],
   "source": [
    "number = int(input(\"enter the number of element of user\")) # for finonacci series\n",
    "a,b = 0,1\n",
    "counter = 0\n",
    "while counter < number :\n",
    "    print(a)\n",
    "    \n",
    "\n",
    "    c = a+b\n",
    "    b = a\n",
    "    a = c\n",
    "    counter = counter +1\n",
    "    \n"
   ]
  },
  {
   "cell_type": "markdown",
   "id": "81ce26b6-f791-40ba-bf21-9d2830cf8f38",
   "metadata": {},
   "source": []
  },
  {
   "cell_type": "code",
   "execution_count": null,
   "id": "c5058b95-850b-4458-93ab-d0755ec8af34",
   "metadata": {},
   "outputs": [],
   "source": []
  },
  {
   "cell_type": "markdown",
   "id": "29910e00-9be4-4da3-aae7-c878fbf52774",
   "metadata": {},
   "source": [
    "Q8:- \n",
    "Write a python program to check whether a given number is Palindrome or not using a while loop."
   ]
  },
  {
   "cell_type": "markdown",
   "id": "3f78b9b9-915d-4f8a-9b9c-0171c6653dd7",
   "metadata": {},
   "source": [
    "Ans -"
   ]
  },
  {
   "cell_type": "code",
   "execution_count": 4,
   "id": "b0ba767b-25aa-48f8-893e-d458a3ef6b09",
   "metadata": {},
   "outputs": [
    {
     "name": "stdin",
     "output_type": "stream",
     "text": [
      "Enter a number:  20\n"
     ]
    },
    {
     "name": "stdout",
     "output_type": "stream",
     "text": [
      "20 is not a palindrome\n"
     ]
    }
   ],
   "source": [
    "def is_palindrome(num):\n",
    "    original_num = num\n",
    "    reverse_num = 0\n",
    "    while num > 0:\n",
    "        last_digit = num % 10\n",
    "        reverse_num = (reverse_num * 10) + last_digit\n",
    "        num //= 10\n",
    "    return original_num == reverse_num\n",
    "\n",
    "num = int(input(\"Enter a number: \"))\n",
    "if is_palindrome(num):\n",
    "    print(f\"{num} is a palindrome\")\n",
    "else:\n",
    "    print(f\"{num} is not a palindrome\")"
   ]
  },
  {
   "cell_type": "code",
   "execution_count": null,
   "id": "36fc9909-320a-4daf-b248-e6201a404667",
   "metadata": {},
   "outputs": [],
   "source": []
  },
  {
   "cell_type": "code",
   "execution_count": null,
   "id": "ff29b859-ba6c-42ff-bcb0-3506322e56da",
   "metadata": {},
   "outputs": [],
   "source": []
  },
  {
   "cell_type": "markdown",
   "id": "46958692-dd28-44d6-8d49-40be013e0f61",
   "metadata": {},
   "source": [
    "Q9 :- Write a code to print odd numbers from 1 to 100 using list comprehension."
   ]
  },
  {
   "cell_type": "markdown",
   "id": "5d6423ae-ea64-4d60-9562-7d6d70769f26",
   "metadata": {},
   "source": [
    "Ans -"
   ]
  },
  {
   "cell_type": "code",
   "execution_count": 7,
   "id": "4ee4aa8b-54d7-4d09-a8b6-d1c20ea3f8b5",
   "metadata": {},
   "outputs": [
    {
     "name": "stdout",
     "output_type": "stream",
     "text": [
      "[1, 3, 5, 7, 9, 11, 13, 15, 17, 19, 21, 23, 25, 27, 29, 31, 33, 35, 37, 39, 41, 43, 45, 47, 49, 51, 53, 55, 57, 59, 61, 63, 65, 67, 69, 71, 73, 75, 77, 79, 81, 83, 85, 87, 89, 91, 93, 95, 97, 99]\n"
     ]
    }
   ],
   "source": [
    "odd_numbers = [x for x in range(1, 101) if x % 2 != 0]\n",
    "print(odd_numbers)"
   ]
  },
  {
   "cell_type": "code",
   "execution_count": null,
   "id": "a68aabe6-d1fb-4da2-8b38-725074fc0b88",
   "metadata": {},
   "outputs": [],
   "source": []
  }
 ],
 "metadata": {
  "kernelspec": {
   "display_name": "Python 3 (ipykernel)",
   "language": "python",
   "name": "python3"
  },
  "language_info": {
   "codemirror_mode": {
    "name": "ipython",
    "version": 3
   },
   "file_extension": ".py",
   "mimetype": "text/x-python",
   "name": "python",
   "nbconvert_exporter": "python",
   "pygments_lexer": "ipython3",
   "version": "3.10.8"
  }
 },
 "nbformat": 4,
 "nbformat_minor": 5
}
