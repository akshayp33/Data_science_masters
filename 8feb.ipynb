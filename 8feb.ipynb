{
 "cells": [
  {
   "cell_type": "markdown",
   "id": "ca903d5b-843f-4e45-a809-cc0c8458debe",
   "metadata": {},
   "source": [
    "### Q1. What is Abstraction in OOps? Explain with an example."
   ]
  },
  {
   "cell_type": "markdown",
   "id": "d85a540b-e258-4b8f-b9d5-7522afb0e855",
   "metadata": {},
   "source": [
    "### Ans :-\n",
    "\n",
    "\n",
    "\n",
    "### Abstraction is a powerful tool in object-oriented programming (OOP). It is the process of hiding the implementation details from the user, allowing only the essential features to be visible. Abstraction focuses on what the object does instead of how it does it. \n",
    "\n",
    "\n",
    "\n"
   ]
  },
  {
   "cell_type": "code",
   "execution_count": null,
   "id": "57f950bb-67cb-462d-b43e-6934b3c05259",
   "metadata": {},
   "outputs": [],
   "source": []
  },
  {
   "cell_type": "code",
   "execution_count": null,
   "id": "1fcc9449-5fa4-409d-bc31-b83791d5c606",
   "metadata": {},
   "outputs": [],
   "source": []
  },
  {
   "cell_type": "markdown",
   "id": "7095a1a4-40bd-41e3-9ba1-f2e69b8bb418",
   "metadata": {},
   "source": [
    "### Q2. Differentiate between Abstraction and Encapsulation. Explain with an example."
   ]
  },
  {
   "cell_type": "markdown",
   "id": "3612f706-2348-4dfb-8d9b-d9c7be1904b8",
   "metadata": {},
   "source": [
    "### Ans :-\n",
    "\n",
    "\n",
    "\n",
    "### Abstraction and encapsulation are two closely related principles of object-oriented programming (OOP). Abstraction is the process of hiding the details of an implementation from the user and presenting only the essential features of a system. On the other hand, encapsulation is the process of combining related variables, methods, and other data into an abstract data type."
   ]
  },
  {
   "cell_type": "code",
   "execution_count": null,
   "id": "357ea33b-0416-47c9-b79e-171adb5cd510",
   "metadata": {},
   "outputs": [],
   "source": []
  },
  {
   "cell_type": "markdown",
   "id": "afb4a76d-7678-48e7-99d2-24c50adb2d51",
   "metadata": {},
   "source": [
    "### Q3. What is abc module in python? Why is it used?"
   ]
  },
  {
   "cell_type": "markdown",
   "id": "92d36cf0-a212-4558-9e56-c1a2abab2785",
   "metadata": {},
   "source": [
    "### Ans :- \n",
    "\n",
    "\n",
    "### The ABC (Abstract Base Classes) module in Python is used to define abstract base classes. Abstract base classes are useful when creating a framework of related classes, as they allow developers to define a set of methods and properties that must be implemented by any classes that inherit from the abstract base class. \n",
    "\n",
    "### The ABC module is an important part of Python's object-oriented programming capabilities, and is used in many projects to ensure that classes follow a certain interface and that common functionality is shared between related classes."
   ]
  },
  {
   "cell_type": "code",
   "execution_count": null,
   "id": "17a2d051-3abd-4c84-9ea8-af9ebe83f0d9",
   "metadata": {},
   "outputs": [],
   "source": []
  },
  {
   "cell_type": "markdown",
   "id": "95bbb2ea-4169-436f-a654-05ec66cdb9d0",
   "metadata": {},
   "source": [
    "### Q4. How can we achieve data abstraction?"
   ]
  },
  {
   "cell_type": "markdown",
   "id": "1d1ef48a-1a5a-45e2-b154-d3eaaa950ee9",
   "metadata": {},
   "source": [
    "### Ans :-\n",
    "\n",
    "\n",
    "### Data abstraction is a process of hiding the complexities of a system by providing only the essential details to the user. It can be achieved by using abstract data types (ADTs), which are classes that provide a set of related variables, methods, and other data. Through abstraction, users are able to interact with the system in a simpler way, without needing to know about the complex details of the system.\n",
    "\n"
   ]
  },
  {
   "cell_type": "code",
   "execution_count": null,
   "id": "02797d44-ca0e-449f-810c-31aa800ec2ef",
   "metadata": {},
   "outputs": [],
   "source": []
  },
  {
   "cell_type": "markdown",
   "id": "90308668-5bb9-4cdf-b098-d014c49176b8",
   "metadata": {},
   "source": [
    "### Q5. Can we create an instance of an abstract class? Explain your answer.\n",
    "\n"
   ]
  },
  {
   "cell_type": "markdown",
   "id": "c306868a-eece-4c3e-ac40-95fb3331ce92",
   "metadata": {},
   "source": [
    "## Ans:-\n",
    "\n",
    "\n",
    "### No, it is not possible to create an instance of an abstract class. An abstract class is a class that contains one or more abstract methods, which are methods that have no implementation. By definition, an abstract class cannot be instantiated, as it contains no implementation of the methods, making it impossible to make use of those methods. "
   ]
  },
  {
   "cell_type": "code",
   "execution_count": null,
   "id": "1051534c-ac5e-4439-9885-58f8799fb2ba",
   "metadata": {},
   "outputs": [],
   "source": []
  }
 ],
 "metadata": {
  "kernelspec": {
   "display_name": "Python 3 (ipykernel)",
   "language": "python",
   "name": "python3"
  },
  "language_info": {
   "codemirror_mode": {
    "name": "ipython",
    "version": 3
   },
   "file_extension": ".py",
   "mimetype": "text/x-python",
   "name": "python",
   "nbconvert_exporter": "python",
   "pygments_lexer": "ipython3",
   "version": "3.10.8"
  }
 },
 "nbformat": 4,
 "nbformat_minor": 5
}
